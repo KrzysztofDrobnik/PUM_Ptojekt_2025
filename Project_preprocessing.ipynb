{
  "nbformat": 4,
  "nbformat_minor": 0,
  "metadata": {
    "colab": {
      "provenance": [],
      "authorship_tag": "ABX9TyMR38DyynssGPA/I8WN577n",
      "include_colab_link": true
    },
    "kernelspec": {
      "name": "python3",
      "display_name": "Python 3"
    },
    "language_info": {
      "name": "python"
    }
  },
  "cells": [
    {
      "cell_type": "markdown",
      "metadata": {
        "id": "view-in-github",
        "colab_type": "text"
      },
      "source": [
        "<a href=\"https://colab.research.google.com/github/KrzysztofDrobnik/PUM_Ptojekt_2025/blob/main/Project_preprocessing.ipynb\" target=\"_parent\"><img src=\"https://colab.research.google.com/assets/colab-badge.svg\" alt=\"Open In Colab\"/></a>"
      ]
    },
    {
      "cell_type": "code",
      "execution_count": 8,
      "metadata": {
        "id": "Lfe5EmOuf_QM"
      },
      "outputs": [],
      "source": [
        "#import potrzebnych bilbiotek\n",
        "import pandas as pd\n",
        "import numpy as np\n",
        "import seaborn as sns\n",
        "import matplotlib.pyplot as plt"
      ]
    },
    {
      "cell_type": "code",
      "source": [
        "#wczytanie pliku z danymi\n",
        "df = pd.read_csv('/content/taxi_trip_pricing (1).csv')"
      ],
      "metadata": {
        "id": "GbMsgX9UgMZt"
      },
      "execution_count": 3,
      "outputs": []
    },
    {
      "cell_type": "code",
      "source": [
        "#podstawowe miary statystyczne\n",
        "df.describe()"
      ],
      "metadata": {
        "colab": {
          "base_uri": "https://localhost:8080/",
          "height": 300
        },
        "id": "XpHNFCCD-k0N",
        "outputId": "34d8d8f4-142c-48a9-d0b0-f82fdd7baf31"
      },
      "execution_count": 4,
      "outputs": [
        {
          "output_type": "execute_result",
          "data": {
            "text/plain": [
              "       Trip_Distance_km  Passenger_Count   Base_Fare  Per_Km_Rate  \\\n",
              "count        950.000000       950.000000  950.000000   950.000000   \n",
              "mean          27.070547         2.476842    3.502989     1.233316   \n",
              "std           19.905300         1.102249    0.870162     0.429816   \n",
              "min            1.230000         1.000000    2.010000     0.500000   \n",
              "25%           12.632500         1.250000    2.730000     0.860000   \n",
              "50%           25.830000         2.000000    3.520000     1.220000   \n",
              "75%           38.405000         3.000000    4.260000     1.610000   \n",
              "max          146.067047         4.000000    5.000000     2.000000   \n",
              "\n",
              "       Per_Minute_Rate  Trip_Duration_Minutes  Trip_Price  \n",
              "count       950.000000             950.000000  951.000000  \n",
              "mean          0.292916              62.118116   56.874773  \n",
              "std           0.115592              32.154406   40.469791  \n",
              "min           0.100000               5.010000    6.126900  \n",
              "25%           0.190000              35.882500   33.742650  \n",
              "50%           0.290000              61.860000   50.074500  \n",
              "75%           0.390000              89.055000   69.099350  \n",
              "max           0.500000             119.840000  332.043689  "
            ],
            "text/html": [
              "\n",
              "  <div id=\"df-51216e4f-f527-4083-afd3-7b412838b177\" class=\"colab-df-container\">\n",
              "    <div>\n",
              "<style scoped>\n",
              "    .dataframe tbody tr th:only-of-type {\n",
              "        vertical-align: middle;\n",
              "    }\n",
              "\n",
              "    .dataframe tbody tr th {\n",
              "        vertical-align: top;\n",
              "    }\n",
              "\n",
              "    .dataframe thead th {\n",
              "        text-align: right;\n",
              "    }\n",
              "</style>\n",
              "<table border=\"1\" class=\"dataframe\">\n",
              "  <thead>\n",
              "    <tr style=\"text-align: right;\">\n",
              "      <th></th>\n",
              "      <th>Trip_Distance_km</th>\n",
              "      <th>Passenger_Count</th>\n",
              "      <th>Base_Fare</th>\n",
              "      <th>Per_Km_Rate</th>\n",
              "      <th>Per_Minute_Rate</th>\n",
              "      <th>Trip_Duration_Minutes</th>\n",
              "      <th>Trip_Price</th>\n",
              "    </tr>\n",
              "  </thead>\n",
              "  <tbody>\n",
              "    <tr>\n",
              "      <th>count</th>\n",
              "      <td>950.000000</td>\n",
              "      <td>950.000000</td>\n",
              "      <td>950.000000</td>\n",
              "      <td>950.000000</td>\n",
              "      <td>950.000000</td>\n",
              "      <td>950.000000</td>\n",
              "      <td>951.000000</td>\n",
              "    </tr>\n",
              "    <tr>\n",
              "      <th>mean</th>\n",
              "      <td>27.070547</td>\n",
              "      <td>2.476842</td>\n",
              "      <td>3.502989</td>\n",
              "      <td>1.233316</td>\n",
              "      <td>0.292916</td>\n",
              "      <td>62.118116</td>\n",
              "      <td>56.874773</td>\n",
              "    </tr>\n",
              "    <tr>\n",
              "      <th>std</th>\n",
              "      <td>19.905300</td>\n",
              "      <td>1.102249</td>\n",
              "      <td>0.870162</td>\n",
              "      <td>0.429816</td>\n",
              "      <td>0.115592</td>\n",
              "      <td>32.154406</td>\n",
              "      <td>40.469791</td>\n",
              "    </tr>\n",
              "    <tr>\n",
              "      <th>min</th>\n",
              "      <td>1.230000</td>\n",
              "      <td>1.000000</td>\n",
              "      <td>2.010000</td>\n",
              "      <td>0.500000</td>\n",
              "      <td>0.100000</td>\n",
              "      <td>5.010000</td>\n",
              "      <td>6.126900</td>\n",
              "    </tr>\n",
              "    <tr>\n",
              "      <th>25%</th>\n",
              "      <td>12.632500</td>\n",
              "      <td>1.250000</td>\n",
              "      <td>2.730000</td>\n",
              "      <td>0.860000</td>\n",
              "      <td>0.190000</td>\n",
              "      <td>35.882500</td>\n",
              "      <td>33.742650</td>\n",
              "    </tr>\n",
              "    <tr>\n",
              "      <th>50%</th>\n",
              "      <td>25.830000</td>\n",
              "      <td>2.000000</td>\n",
              "      <td>3.520000</td>\n",
              "      <td>1.220000</td>\n",
              "      <td>0.290000</td>\n",
              "      <td>61.860000</td>\n",
              "      <td>50.074500</td>\n",
              "    </tr>\n",
              "    <tr>\n",
              "      <th>75%</th>\n",
              "      <td>38.405000</td>\n",
              "      <td>3.000000</td>\n",
              "      <td>4.260000</td>\n",
              "      <td>1.610000</td>\n",
              "      <td>0.390000</td>\n",
              "      <td>89.055000</td>\n",
              "      <td>69.099350</td>\n",
              "    </tr>\n",
              "    <tr>\n",
              "      <th>max</th>\n",
              "      <td>146.067047</td>\n",
              "      <td>4.000000</td>\n",
              "      <td>5.000000</td>\n",
              "      <td>2.000000</td>\n",
              "      <td>0.500000</td>\n",
              "      <td>119.840000</td>\n",
              "      <td>332.043689</td>\n",
              "    </tr>\n",
              "  </tbody>\n",
              "</table>\n",
              "</div>\n",
              "    <div class=\"colab-df-buttons\">\n",
              "\n",
              "  <div class=\"colab-df-container\">\n",
              "    <button class=\"colab-df-convert\" onclick=\"convertToInteractive('df-51216e4f-f527-4083-afd3-7b412838b177')\"\n",
              "            title=\"Convert this dataframe to an interactive table.\"\n",
              "            style=\"display:none;\">\n",
              "\n",
              "  <svg xmlns=\"http://www.w3.org/2000/svg\" height=\"24px\" viewBox=\"0 -960 960 960\">\n",
              "    <path d=\"M120-120v-720h720v720H120Zm60-500h600v-160H180v160Zm220 220h160v-160H400v160Zm0 220h160v-160H400v160ZM180-400h160v-160H180v160Zm440 0h160v-160H620v160ZM180-180h160v-160H180v160Zm440 0h160v-160H620v160Z\"/>\n",
              "  </svg>\n",
              "    </button>\n",
              "\n",
              "  <style>\n",
              "    .colab-df-container {\n",
              "      display:flex;\n",
              "      gap: 12px;\n",
              "    }\n",
              "\n",
              "    .colab-df-convert {\n",
              "      background-color: #E8F0FE;\n",
              "      border: none;\n",
              "      border-radius: 50%;\n",
              "      cursor: pointer;\n",
              "      display: none;\n",
              "      fill: #1967D2;\n",
              "      height: 32px;\n",
              "      padding: 0 0 0 0;\n",
              "      width: 32px;\n",
              "    }\n",
              "\n",
              "    .colab-df-convert:hover {\n",
              "      background-color: #E2EBFA;\n",
              "      box-shadow: 0px 1px 2px rgba(60, 64, 67, 0.3), 0px 1px 3px 1px rgba(60, 64, 67, 0.15);\n",
              "      fill: #174EA6;\n",
              "    }\n",
              "\n",
              "    .colab-df-buttons div {\n",
              "      margin-bottom: 4px;\n",
              "    }\n",
              "\n",
              "    [theme=dark] .colab-df-convert {\n",
              "      background-color: #3B4455;\n",
              "      fill: #D2E3FC;\n",
              "    }\n",
              "\n",
              "    [theme=dark] .colab-df-convert:hover {\n",
              "      background-color: #434B5C;\n",
              "      box-shadow: 0px 1px 3px 1px rgba(0, 0, 0, 0.15);\n",
              "      filter: drop-shadow(0px 1px 2px rgba(0, 0, 0, 0.3));\n",
              "      fill: #FFFFFF;\n",
              "    }\n",
              "  </style>\n",
              "\n",
              "    <script>\n",
              "      const buttonEl =\n",
              "        document.querySelector('#df-51216e4f-f527-4083-afd3-7b412838b177 button.colab-df-convert');\n",
              "      buttonEl.style.display =\n",
              "        google.colab.kernel.accessAllowed ? 'block' : 'none';\n",
              "\n",
              "      async function convertToInteractive(key) {\n",
              "        const element = document.querySelector('#df-51216e4f-f527-4083-afd3-7b412838b177');\n",
              "        const dataTable =\n",
              "          await google.colab.kernel.invokeFunction('convertToInteractive',\n",
              "                                                    [key], {});\n",
              "        if (!dataTable) return;\n",
              "\n",
              "        const docLinkHtml = 'Like what you see? Visit the ' +\n",
              "          '<a target=\"_blank\" href=https://colab.research.google.com/notebooks/data_table.ipynb>data table notebook</a>'\n",
              "          + ' to learn more about interactive tables.';\n",
              "        element.innerHTML = '';\n",
              "        dataTable['output_type'] = 'display_data';\n",
              "        await google.colab.output.renderOutput(dataTable, element);\n",
              "        const docLink = document.createElement('div');\n",
              "        docLink.innerHTML = docLinkHtml;\n",
              "        element.appendChild(docLink);\n",
              "      }\n",
              "    </script>\n",
              "  </div>\n",
              "\n",
              "\n",
              "<div id=\"df-6ed93b82-5505-4528-8ebb-48a3ebabcda8\">\n",
              "  <button class=\"colab-df-quickchart\" onclick=\"quickchart('df-6ed93b82-5505-4528-8ebb-48a3ebabcda8')\"\n",
              "            title=\"Suggest charts\"\n",
              "            style=\"display:none;\">\n",
              "\n",
              "<svg xmlns=\"http://www.w3.org/2000/svg\" height=\"24px\"viewBox=\"0 0 24 24\"\n",
              "     width=\"24px\">\n",
              "    <g>\n",
              "        <path d=\"M19 3H5c-1.1 0-2 .9-2 2v14c0 1.1.9 2 2 2h14c1.1 0 2-.9 2-2V5c0-1.1-.9-2-2-2zM9 17H7v-7h2v7zm4 0h-2V7h2v10zm4 0h-2v-4h2v4z\"/>\n",
              "    </g>\n",
              "</svg>\n",
              "  </button>\n",
              "\n",
              "<style>\n",
              "  .colab-df-quickchart {\n",
              "      --bg-color: #E8F0FE;\n",
              "      --fill-color: #1967D2;\n",
              "      --hover-bg-color: #E2EBFA;\n",
              "      --hover-fill-color: #174EA6;\n",
              "      --disabled-fill-color: #AAA;\n",
              "      --disabled-bg-color: #DDD;\n",
              "  }\n",
              "\n",
              "  [theme=dark] .colab-df-quickchart {\n",
              "      --bg-color: #3B4455;\n",
              "      --fill-color: #D2E3FC;\n",
              "      --hover-bg-color: #434B5C;\n",
              "      --hover-fill-color: #FFFFFF;\n",
              "      --disabled-bg-color: #3B4455;\n",
              "      --disabled-fill-color: #666;\n",
              "  }\n",
              "\n",
              "  .colab-df-quickchart {\n",
              "    background-color: var(--bg-color);\n",
              "    border: none;\n",
              "    border-radius: 50%;\n",
              "    cursor: pointer;\n",
              "    display: none;\n",
              "    fill: var(--fill-color);\n",
              "    height: 32px;\n",
              "    padding: 0;\n",
              "    width: 32px;\n",
              "  }\n",
              "\n",
              "  .colab-df-quickchart:hover {\n",
              "    background-color: var(--hover-bg-color);\n",
              "    box-shadow: 0 1px 2px rgba(60, 64, 67, 0.3), 0 1px 3px 1px rgba(60, 64, 67, 0.15);\n",
              "    fill: var(--button-hover-fill-color);\n",
              "  }\n",
              "\n",
              "  .colab-df-quickchart-complete:disabled,\n",
              "  .colab-df-quickchart-complete:disabled:hover {\n",
              "    background-color: var(--disabled-bg-color);\n",
              "    fill: var(--disabled-fill-color);\n",
              "    box-shadow: none;\n",
              "  }\n",
              "\n",
              "  .colab-df-spinner {\n",
              "    border: 2px solid var(--fill-color);\n",
              "    border-color: transparent;\n",
              "    border-bottom-color: var(--fill-color);\n",
              "    animation:\n",
              "      spin 1s steps(1) infinite;\n",
              "  }\n",
              "\n",
              "  @keyframes spin {\n",
              "    0% {\n",
              "      border-color: transparent;\n",
              "      border-bottom-color: var(--fill-color);\n",
              "      border-left-color: var(--fill-color);\n",
              "    }\n",
              "    20% {\n",
              "      border-color: transparent;\n",
              "      border-left-color: var(--fill-color);\n",
              "      border-top-color: var(--fill-color);\n",
              "    }\n",
              "    30% {\n",
              "      border-color: transparent;\n",
              "      border-left-color: var(--fill-color);\n",
              "      border-top-color: var(--fill-color);\n",
              "      border-right-color: var(--fill-color);\n",
              "    }\n",
              "    40% {\n",
              "      border-color: transparent;\n",
              "      border-right-color: var(--fill-color);\n",
              "      border-top-color: var(--fill-color);\n",
              "    }\n",
              "    60% {\n",
              "      border-color: transparent;\n",
              "      border-right-color: var(--fill-color);\n",
              "    }\n",
              "    80% {\n",
              "      border-color: transparent;\n",
              "      border-right-color: var(--fill-color);\n",
              "      border-bottom-color: var(--fill-color);\n",
              "    }\n",
              "    90% {\n",
              "      border-color: transparent;\n",
              "      border-bottom-color: var(--fill-color);\n",
              "    }\n",
              "  }\n",
              "</style>\n",
              "\n",
              "  <script>\n",
              "    async function quickchart(key) {\n",
              "      const quickchartButtonEl =\n",
              "        document.querySelector('#' + key + ' button');\n",
              "      quickchartButtonEl.disabled = true;  // To prevent multiple clicks.\n",
              "      quickchartButtonEl.classList.add('colab-df-spinner');\n",
              "      try {\n",
              "        const charts = await google.colab.kernel.invokeFunction(\n",
              "            'suggestCharts', [key], {});\n",
              "      } catch (error) {\n",
              "        console.error('Error during call to suggestCharts:', error);\n",
              "      }\n",
              "      quickchartButtonEl.classList.remove('colab-df-spinner');\n",
              "      quickchartButtonEl.classList.add('colab-df-quickchart-complete');\n",
              "    }\n",
              "    (() => {\n",
              "      let quickchartButtonEl =\n",
              "        document.querySelector('#df-6ed93b82-5505-4528-8ebb-48a3ebabcda8 button');\n",
              "      quickchartButtonEl.style.display =\n",
              "        google.colab.kernel.accessAllowed ? 'block' : 'none';\n",
              "    })();\n",
              "  </script>\n",
              "</div>\n",
              "\n",
              "    </div>\n",
              "  </div>\n"
            ],
            "application/vnd.google.colaboratory.intrinsic+json": {
              "type": "dataframe",
              "summary": "{\n  \"name\": \"df\",\n  \"rows\": 8,\n  \"fields\": [\n    {\n      \"column\": \"Trip_Distance_km\",\n      \"properties\": {\n        \"dtype\": \"number\",\n        \"std\": 325.3283749733108,\n        \"min\": 1.23,\n        \"max\": 950.0,\n        \"num_unique_values\": 8,\n        \"samples\": [\n          27.070546861761322,\n          25.83,\n          950.0\n        ],\n        \"semantic_type\": \"\",\n        \"description\": \"\"\n      }\n    },\n    {\n      \"column\": \"Passenger_Count\",\n      \"properties\": {\n        \"dtype\": \"number\",\n        \"std\": 335.12833688627575,\n        \"min\": 1.0,\n        \"max\": 950.0,\n        \"num_unique_values\": 8,\n        \"samples\": [\n          2.4768421052631577,\n          2.0,\n          950.0\n        ],\n        \"semantic_type\": \"\",\n        \"description\": \"\"\n      }\n    },\n    {\n      \"column\": \"Base_Fare\",\n      \"properties\": {\n        \"dtype\": \"number\",\n        \"std\": 334.7724220377988,\n        \"min\": 0.8701619278680248,\n        \"max\": 950.0,\n        \"num_unique_values\": 8,\n        \"samples\": [\n          3.502989473684211,\n          3.52,\n          950.0\n        ],\n        \"semantic_type\": \"\",\n        \"description\": \"\"\n      }\n    },\n    {\n      \"column\": \"Per_Km_Rate\",\n      \"properties\": {\n        \"dtype\": \"number\",\n        \"std\": 335.4794965378647,\n        \"min\": 0.4298158687087343,\n        \"max\": 950.0,\n        \"num_unique_values\": 8,\n        \"samples\": [\n          1.2333157894736844,\n          1.22,\n          950.0\n        ],\n        \"semantic_type\": \"\",\n        \"description\": \"\"\n      }\n    },\n    {\n      \"column\": \"Per_Minute_Rate\",\n      \"properties\": {\n        \"dtype\": \"number\",\n        \"std\": 335.78086919396725,\n        \"min\": 0.1,\n        \"max\": 950.0,\n        \"num_unique_values\": 8,\n        \"samples\": [\n          0.2929157894736842,\n          0.29,\n          950.0\n        ],\n        \"semantic_type\": \"\",\n        \"description\": \"\"\n      }\n    },\n    {\n      \"column\": \"Trip_Duration_Minutes\",\n      \"properties\": {\n        \"dtype\": \"number\",\n        \"std\": 317.3572592410149,\n        \"min\": 5.01,\n        \"max\": 950.0,\n        \"num_unique_values\": 8,\n        \"samples\": [\n          62.11811578947369,\n          61.86,\n          950.0\n        ],\n        \"semantic_type\": \"\",\n        \"description\": \"\"\n      }\n    },\n    {\n      \"column\": \"Trip_Price\",\n      \"properties\": {\n        \"dtype\": \"number\",\n        \"std\": 323.32063020684404,\n        \"min\": 6.1269,\n        \"max\": 951.0,\n        \"num_unique_values\": 8,\n        \"samples\": [\n          56.87477332571041,\n          50.07450000000001,\n          951.0\n        ],\n        \"semantic_type\": \"\",\n        \"description\": \"\"\n      }\n    }\n  ]\n}"
            }
          },
          "metadata": {},
          "execution_count": 4
        }
      ]
    },
    {
      "cell_type": "code",
      "source": [
        "#sprawdzenie podstawowych danych o df\n",
        "wiersze, kolumny = df.shape\n",
        "print(\"Liczba wierszy:\", wiersze)\n",
        "print(\"Liczba kolumn:\", kolumny)\n",
        "\n",
        "df.info()"
      ],
      "metadata": {
        "colab": {
          "base_uri": "https://localhost:8080/"
        },
        "id": "qe5OPj_PgbsO",
        "outputId": "1fefefb5-0310-45e8-ed8e-9a119bda2f9b"
      },
      "execution_count": 5,
      "outputs": [
        {
          "output_type": "stream",
          "name": "stdout",
          "text": [
            "Liczba wierszy: 1000\n",
            "Liczba kolumn: 11\n",
            "<class 'pandas.core.frame.DataFrame'>\n",
            "RangeIndex: 1000 entries, 0 to 999\n",
            "Data columns (total 11 columns):\n",
            " #   Column                 Non-Null Count  Dtype  \n",
            "---  ------                 --------------  -----  \n",
            " 0   Trip_Distance_km       950 non-null    float64\n",
            " 1   Time_of_Day            950 non-null    object \n",
            " 2   Day_of_Week            950 non-null    object \n",
            " 3   Passenger_Count        950 non-null    float64\n",
            " 4   Traffic_Conditions     950 non-null    object \n",
            " 5   Weather                950 non-null    object \n",
            " 6   Base_Fare              950 non-null    float64\n",
            " 7   Per_Km_Rate            950 non-null    float64\n",
            " 8   Per_Minute_Rate        950 non-null    float64\n",
            " 9   Trip_Duration_Minutes  950 non-null    float64\n",
            " 10  Trip_Price             951 non-null    float64\n",
            "dtypes: float64(7), object(4)\n",
            "memory usage: 86.1+ KB\n"
          ]
        }
      ]
    },
    {
      "cell_type": "code",
      "source": [
        "#usunięcie dupilkatów danych\n",
        "df = df.drop_duplicates()\n",
        "\n",
        "df.info()"
      ],
      "metadata": {
        "colab": {
          "base_uri": "https://localhost:8080/"
        },
        "id": "nhKaBojkgizn",
        "outputId": "15305cca-aa16-4201-947a-a5cb47c9418d"
      },
      "execution_count": 6,
      "outputs": [
        {
          "output_type": "stream",
          "name": "stdout",
          "text": [
            "<class 'pandas.core.frame.DataFrame'>\n",
            "RangeIndex: 1000 entries, 0 to 999\n",
            "Data columns (total 11 columns):\n",
            " #   Column                 Non-Null Count  Dtype  \n",
            "---  ------                 --------------  -----  \n",
            " 0   Trip_Distance_km       950 non-null    float64\n",
            " 1   Time_of_Day            950 non-null    object \n",
            " 2   Day_of_Week            950 non-null    object \n",
            " 3   Passenger_Count        950 non-null    float64\n",
            " 4   Traffic_Conditions     950 non-null    object \n",
            " 5   Weather                950 non-null    object \n",
            " 6   Base_Fare              950 non-null    float64\n",
            " 7   Per_Km_Rate            950 non-null    float64\n",
            " 8   Per_Minute_Rate        950 non-null    float64\n",
            " 9   Trip_Duration_Minutes  950 non-null    float64\n",
            " 10  Trip_Price             951 non-null    float64\n",
            "dtypes: float64(7), object(4)\n",
            "memory usage: 86.1+ KB\n"
          ]
        }
      ]
    },
    {
      "cell_type": "code",
      "source": [
        "#połaczenie zmiennych \"Per_Minute_Rate\" oraz \"Trip_Duration_Minutes\" w jedną zmienną będącą ich iloczynem\n",
        "df[\"Time_Cost\"] = df[\"Per_Minute_Rate\"] * df[\"Trip_Duration_Minutes\"]\n",
        "df.drop(columns=[\"Per_Minute_Rate\", \"Trip_Duration_Minutes\"], inplace=True)\n",
        "df.info()"
      ],
      "metadata": {
        "colab": {
          "base_uri": "https://localhost:8080/"
        },
        "id": "99AWXX82iVpf",
        "outputId": "2e97e53a-2386-4743-a7e8-26873879b43b"
      },
      "execution_count": 7,
      "outputs": [
        {
          "output_type": "stream",
          "name": "stdout",
          "text": [
            "<class 'pandas.core.frame.DataFrame'>\n",
            "RangeIndex: 1000 entries, 0 to 999\n",
            "Data columns (total 10 columns):\n",
            " #   Column              Non-Null Count  Dtype  \n",
            "---  ------              --------------  -----  \n",
            " 0   Trip_Distance_km    950 non-null    float64\n",
            " 1   Time_of_Day         950 non-null    object \n",
            " 2   Day_of_Week         950 non-null    object \n",
            " 3   Passenger_Count     950 non-null    float64\n",
            " 4   Traffic_Conditions  950 non-null    object \n",
            " 5   Weather             950 non-null    object \n",
            " 6   Base_Fare           950 non-null    float64\n",
            " 7   Per_Km_Rate         950 non-null    float64\n",
            " 8   Trip_Price          951 non-null    float64\n",
            " 9   Time_Cost           902 non-null    float64\n",
            "dtypes: float64(6), object(4)\n",
            "memory usage: 78.3+ KB\n"
          ]
        }
      ]
    },
    {
      "cell_type": "code",
      "source": [
        "#sprawdzanie rozkładów zmiennych w celu stwierdzenie czy lepiej zastąpić wartości puste średnią czy medianą (lub ewentualnie inną statystyką)\n",
        "fig, axes = plt.subplots(2, 3, figsize=(15, 5))\n",
        "\n",
        "sns.histplot(df['Trip_Distance_km'], ax=axes[0, 0], kde=True)\n",
        "axes[0, 0].set_title('Histogram Trip_Distance_km')\n",
        "\n",
        "sns.histplot(df['Passenger_Count'], ax=axes[0, 1], kde=True)\n",
        "axes[0, 1].set_title('Histogram Passenger_Count')\n",
        "\n",
        "sns.histplot(df['Base_Fare'], ax=axes[0, 2], kde=True)\n",
        "axes[0, 2].set_title('Histogram Base_Fare  ')\n",
        "\n",
        "sns.histplot(df['Per_Km_Rate'], ax=axes[1, 0], kde=True)\n",
        "axes[1, 0].set_title('Histogram Per_Km_Rate')\n",
        "\n",
        "sns.histplot(df['Trip_Price'], ax=axes[1, 1], kde=True)\n",
        "axes[1, 1].set_title('Histogram Trip_Price')\n",
        "\n",
        "sns.histplot(df['Time_Cost'], ax=axes[1, 2], kde=True)\n",
        "axes[1, 2].set_title('Histogram Time_Cost')\n",
        "\n",
        "plt.tight_layout()\n",
        "plt.show()"
      ],
      "metadata": {
        "colab": {
          "base_uri": "https://localhost:8080/",
          "height": 452
        },
        "id": "yTn-1I_x_KM0",
        "outputId": "140890ff-15fc-45d1-900b-065222486e50"
      },
      "execution_count": 13,
      "outputs": [
        {
          "output_type": "display_data",
          "data": {
            "text/plain": [
              "<Figure size 1500x500 with 6 Axes>"
            ],
            "image/png": "[encoded data removed]"
          },
          "metadata": {}
        }
      ]
    },
    {
      "cell_type": "code",
      "source": [
        "#rozkład zmiennej Trip_Distance_km - skośny prawostronnie - najlepiej zastąpić wartości puste medianą\n",
        "#rozkład zmiennej Passenger_Count - zmienna dyskretna, przyjmowane wartości z kilku możliwych opcji - najlepiej zastąpić wartości puste modą\n",
        "#rozkład zmiennej Base_Fare - bez silnych skośności - najlepiej zastąpić wartości puste średnią\n",
        "#rozkład zmiennej Per_Km_Rate - bez silnych skośności - najlepiej zastąpić wartości puste średnią\n",
        "#rozkład zmiennej Trip_Price - skośny prawostronnie - najlepiej zastąpić wartości puste medianą\n",
        "#rozkłąd zmiennej Time_Cost - skośnt prawostronnie - najlepiej zastąpić wartości puste medianą\n",
        "\n",
        "trip_distance_median = df['Trip_Distance_km'].median()\n",
        "passenger_count_mode = df['Passenger_Count'].mode()[0]\n",
        "base_fare_mean = df['Base_Fare'].mean()\n",
        "per_km_rate_mean = df['Per_Km_Rate'].mean()\n",
        "trip_price_median = df['Trip_Price'].median()\n",
        "time_cost_median = df['Time_Cost'].median()\n",
        "\n",
        "df['Trip_Distance_km'] = df['Trip_Distance_km'].fillna(trip_distance_median)\n",
        "df['Passenger_Count'] = df['Passenger_Count'].fillna(passenger_count_mode)\n",
        "df['Base_Fare'] = df['Base_Fare'].fillna(base_fare_mean)\n",
        "df['Per_Km_Rate'] = df['Per_Km_Rate'].fillna(per_km_rate_mean)\n",
        "df['Trip_Price'] = df['Trip_Price'].fillna(trip_price_median)\n",
        "df['Time_Cost'] = df['Time_Cost'].fillna(time_cost_median)\n",
        "\n",
        "df.info()"
      ],
      "metadata": {
        "colab": {
          "base_uri": "https://localhost:8080/"
        },
        "id": "_HTaefRxB8uV",
        "outputId": "ca8a6f62-1562-4a98-852c-7ea73d18ca77"
      },
      "execution_count": 15,
      "outputs": [
        {
          "output_type": "stream",
          "name": "stdout",
          "text": [
            "<class 'pandas.core.frame.DataFrame'>\n",
            "RangeIndex: 1000 entries, 0 to 999\n",
            "Data columns (total 10 columns):\n",
            " #   Column              Non-Null Count  Dtype  \n",
            "---  ------              --------------  -----  \n",
            " 0   Trip_Distance_km    1000 non-null   float64\n",
            " 1   Time_of_Day         950 non-null    object \n",
            " 2   Day_of_Week         950 non-null    object \n",
            " 3   Passenger_Count     1000 non-null   float64\n",
            " 4   Traffic_Conditions  950 non-null    object \n",
            " 5   Weather             950 non-null    object \n",
            " 6   Base_Fare           1000 non-null   float64\n",
            " 7   Per_Km_Rate         1000 non-null   float64\n",
            " 8   Trip_Price          1000 non-null   float64\n",
            " 9   Time_Cost           1000 non-null   float64\n",
            "dtypes: float64(6), object(4)\n",
            "memory usage: 78.3+ KB\n"
          ]
        }
      ]
    },
    {
      "cell_type": "code",
      "source": [
        "#sprawdzenie wartości dla zmiennych tekstowych\n",
        "text_columns = ['Time_of_Day', 'Day_of_Week', 'Traffic_Conditions', 'Weather']\n",
        "\n",
        "for column in text_columns:\n",
        "    print(df[column].value_counts())\n",
        "    print(\"\\n\")"
      ],
      "metadata": {
        "colab": {
          "base_uri": "https://localhost:8080/"
        },
        "id": "YmrE_637FLZZ",
        "outputId": "cf80ec62-5edc-41a4-ae4e-73d0d6a06189"
      },
      "execution_count": 24,
      "outputs": [
        {
          "output_type": "stream",
          "name": "stdout",
          "text": [
            "Time_of_Day\n",
            "Afternoon    371\n",
            "Morning      283\n",
            "Evening      203\n",
            "Night         93\n",
            "Name: count, dtype: int64\n",
            "\n",
            "\n",
            "Day_of_Week\n",
            "Weekday    655\n",
            "Weekend    295\n",
            "Name: count, dtype: int64\n",
            "\n",
            "\n",
            "Traffic_Conditions\n",
            "Low       397\n",
            "Medium    371\n",
            "High      182\n",
            "Name: count, dtype: int64\n",
            "\n",
            "\n",
            "Weather\n",
            "Clear    667\n",
            "Rain     227\n",
            "Snow      56\n",
            "Name: count, dtype: int64\n",
            "\n",
            "\n"
          ]
        }
      ]
    },
    {
      "cell_type": "code",
      "source": [
        "#sprawdzenie jaki procent danych stanowią brakujące dane\n",
        "braki_procent = df.isnull().sum() / len(df) * 100\n",
        "braki_procent = braki_procent[braki_procent > 0]\n",
        "print(braki_procent)\n"
      ],
      "metadata": {
        "colab": {
          "base_uri": "https://localhost:8080/"
        },
        "id": "ReBabVLTF0QC",
        "outputId": "d7ba252f-a6bd-4279-d70a-5fe03a550e5f"
      },
      "execution_count": 27,
      "outputs": [
        {
          "output_type": "stream",
          "name": "stdout",
          "text": [
            "Time_of_Day           5.0\n",
            "Day_of_Week           5.0\n",
            "Traffic_Conditions    5.0\n",
            "Weather               5.0\n",
            "dtype: float64\n"
          ]
        }
      ]
    },
    {
      "cell_type": "markdown",
      "source": [
        "Co dalej?\n",
        "- wartości puste stanowia 5% wszystkich obserwacji - lepiej usunąć wartoścu puste czy np. zastąpić je najczęsciej pojawiającą się wartością (modą)?\n",
        "- znalezienie i zastapienie wartości odstających - najlepiej metoda IQR\n",
        "- kodowanie zmiennych kategorycznych na liczbowe - jakie kodowanie najlepiej?\n",
        "- przeskalowanie danych?\n",
        "- badanie korelacji i ewentualne usunięcie zmiennych?"
      ],
      "metadata": {
        "id": "wQFxxRr3JCN4"
      }
    }
  ]
}